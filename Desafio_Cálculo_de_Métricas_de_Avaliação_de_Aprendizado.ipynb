{
  "nbformat": 4,
  "nbformat_minor": 0,
  "metadata": {
    "colab": {
      "provenance": [],
      "include_colab_link": true
    },
    "kernelspec": {
      "name": "python3",
      "display_name": "Python 3"
    }
  },
  "cells": [
    {
      "cell_type": "markdown",
      "metadata": {
        "id": "view-in-github",
        "colab_type": "text"
      },
      "source": [
        "<a href=\"https://colab.research.google.com/github/wsbrito/DesafiosDIO/blob/main/Desafio_C%C3%A1lculo_de_M%C3%A9tricas_de_Avalia%C3%A7%C3%A3o_de_Aprendizado.ipynb\" target=\"_parent\"><img src=\"https://colab.research.google.com/assets/colab-badge.svg\" alt=\"Open In Colab\"/></a>"
      ]
    },
    {
      "cell_type": "markdown",
      "source": [
        "# Desafio - Cálculo de Métricas de Avaliação de Aprendizado\n",
        "### Autor: Wagner Brito"
      ],
      "metadata": {
        "id": "VmYNGH2K7BY7"
      }
    },
    {
      "cell_type": "markdown",
      "source": [
        "Abaixo segue a suloção proposta para o desafio da apresentação das métricas de avaliação de aprendizado de máquina."
      ],
      "metadata": {
        "id": "X1tBt0Cc7OmC"
      }
    },
    {
      "cell_type": "markdown",
      "source": [
        "## Código importado pronto que servirá de base para a apresentação das demais métricas\n",
        "O código abaixo foi localizado através de uma busca simples no Goolgle. Como ele encerra na matriz de confusão decidi utilizá-lo como base para o desafio."
      ],
      "metadata": {
        "id": "j8UZO9NG7bV4"
      }
    },
    {
      "cell_type": "code",
      "metadata": {
        "id": "_3kDI7dXtyra"
      },
      "source": [
        "from sklearn import datasets\n",
        "iris = datasets.load_iris()\n",
        "X = iris.data\n",
        "y = iris.target"
      ],
      "execution_count": 1,
      "outputs": []
    },
    {
      "cell_type": "code",
      "metadata": {
        "id": "gcRHonwKuJ2q"
      },
      "source": [
        "from sklearn.linear_model import LogisticRegression\n",
        "logistic = LogisticRegression()"
      ],
      "execution_count": 2,
      "outputs": []
    },
    {
      "cell_type": "code",
      "metadata": {
        "id": "-raDjNdiuQtu",
        "colab": {
          "base_uri": "https://localhost:8080/"
        },
        "outputId": "7a6916a2-550a-4cc1-900f-5f88e322b1d8"
      },
      "source": [
        "from sklearn.model_selection import (cross_val_predict, KFold)\n",
        "from sklearn.metrics import confusion_matrix\n",
        "y_pred = cross_val_predict(logistic,X,y,cv=KFold(n_splits=10, shuffle=True))\n",
        "conf_mat = confusion_matrix(y,y_pred)"
      ],
      "execution_count": 3,
      "outputs": [
        {
          "output_type": "stream",
          "name": "stderr",
          "text": [
            "/usr/local/lib/python3.10/dist-packages/sklearn/linear_model/_logistic.py:469: ConvergenceWarning: lbfgs failed to converge (status=1):\n",
            "STOP: TOTAL NO. of ITERATIONS REACHED LIMIT.\n",
            "\n",
            "Increase the number of iterations (max_iter) or scale the data as shown in:\n",
            "    https://scikit-learn.org/stable/modules/preprocessing.html\n",
            "Please also refer to the documentation for alternative solver options:\n",
            "    https://scikit-learn.org/stable/modules/linear_model.html#logistic-regression\n",
            "  n_iter_i = _check_optimize_result(\n"
          ]
        }
      ]
    },
    {
      "cell_type": "code",
      "metadata": {
        "id": "-7biMQ_DvC1Z"
      },
      "source": [
        "import matplotlib.pyplot as plt\n",
        "%matplotlib inline\n",
        "import itertools\n",
        "import numpy as np\n",
        "def plot_confusion_matrix(cm, classes, normalize=False, title='Confusion matrix', cmap=plt.cm.Blues):\n",
        "    \"\"\"\n",
        "    This function prints and plots the confusion matrix.\n",
        "    Normalization can be applied by setting `normalize=True`.\n",
        "    \"\"\"\n",
        "    if normalize:\n",
        "        cm = cm.astype('float') / cm.sum(axis=1)[:, np.newaxis]\n",
        "        print(\"Normalized confusion matrix\")\n",
        "    else:\n",
        "        print('Confusion matrix, without normalization')\n",
        "    print(cm)\n",
        "    plt.imshow(cm, interpolation='nearest', cmap=cmap)\n",
        "    plt.title(title)\n",
        "    plt.colorbar()\n",
        "    tick_marks = np.arange(len(classes))\n",
        "    plt.xticks(tick_marks, classes, rotation=45)\n",
        "    plt.yticks(tick_marks, classes)\n",
        "    fmt = '.2f' if normalize else 'd'\n",
        "    thresh = cm.max() / 2.\n",
        "    for i, j in itertools.product(range(cm.shape[0]), range(cm.shape[1])):\n",
        "        plt.text(j, i, format(cm[i, j], fmt),\n",
        "                 horizontalalignment=\"center\",\n",
        "                 color=\"white\" if cm[i, j] > thresh else \"black\")\n",
        "    plt.tight_layout()\n",
        "    plt.ylabel('True label')\n",
        "    plt.xlabel('Predicted label')"
      ],
      "execution_count": 4,
      "outputs": []
    },
    {
      "cell_type": "code",
      "metadata": {
        "id": "XDMxQJmivO4u",
        "outputId": "596e96ff-0571-4524-c248-b0986fb5ba12",
        "colab": {
          "base_uri": "https://localhost:8080/",
          "height": 575
        }
      },
      "source": [
        "plot_confusion_matrix(conf_mat, list(iris.target_names))\n"
      ],
      "execution_count": 5,
      "outputs": [
        {
          "output_type": "stream",
          "name": "stdout",
          "text": [
            "Confusion matrix, without normalization\n",
            "[[50  0  0]\n",
            " [ 0 47  3]\n",
            " [ 0  2 48]]\n"
          ]
        },
        {
          "output_type": "display_data",
          "data": {
            "text/plain": [
              "<Figure size 640x480 with 2 Axes>"
            ],
            "image/png": "[encoded data removed]"
          },
          "metadata": {}
        }
      ]
    },
    {
      "cell_type": "markdown",
      "source": [
        "## Total de exemplos"
      ],
      "metadata": {
        "id": "gcX1p9sN8Tsr"
      }
    },
    {
      "cell_type": "code",
      "source": [
        "# Total de registros avaliados = 150\n",
        "N = 150"
      ],
      "metadata": {
        "id": "XYxuAiM78R57"
      },
      "execution_count": 6,
      "outputs": []
    },
    {
      "cell_type": "markdown",
      "source": [
        "## Execução dos cálculos das métricas"
      ],
      "metadata": {
        "id": "wQ03rFtRBcmM"
      }
    },
    {
      "cell_type": "markdown",
      "source": [
        "### Sensibilidade por classe\n",
        "**Fórmula = Verdadeiro Positivo / (Verdadeiro Positivo + Falso Negativo)**"
      ],
      "metadata": {
        "id": "xGcSTHnVOdNc"
      }
    },
    {
      "cell_type": "code",
      "source": [
        "vp_setosa = conf_mat[0,0]\n",
        "fn_setosa = conf_mat[0,1] + conf_mat[0,2]\n",
        "sensibilidade_setosa = vp_setosa /(vp_setosa + fn_setosa)\n",
        "print(sensibilidade_setosa)"
      ],
      "metadata": {
        "colab": {
          "base_uri": "https://localhost:8080/"
        },
        "id": "7OGXLSvRBg46",
        "outputId": "7ae228c2-9e38-43fa-ae51-d9132da15c4e"
      },
      "execution_count": 7,
      "outputs": [
        {
          "output_type": "stream",
          "name": "stdout",
          "text": [
            "1.0\n"
          ]
        }
      ]
    },
    {
      "cell_type": "code",
      "source": [
        "vp_versicolor = conf_mat[1,1]\n",
        "fn_versicolor = conf_mat[1,0] + conf_mat[1,2]\n",
        "sensibilidade_versicolor = vp_versicolor /(vp_versicolor + fn_versicolor)\n",
        "print(sensibilidade_versicolor)"
      ],
      "metadata": {
        "colab": {
          "base_uri": "https://localhost:8080/"
        },
        "id": "X_p-r7jBOsCJ",
        "outputId": "c99a2770-0287-4fda-d3d1-3f04319280ff"
      },
      "execution_count": 8,
      "outputs": [
        {
          "output_type": "stream",
          "name": "stdout",
          "text": [
            "0.94\n"
          ]
        }
      ]
    },
    {
      "cell_type": "code",
      "source": [
        "vp_virginica = conf_mat[2,2]\n",
        "fn_virginica = conf_mat[2,0] + conf_mat[2,1]\n",
        "sensibilidade_virginica = vp_virginica /(vp_virginica + fn_virginica)\n",
        "print(sensibilidade_virginica)"
      ],
      "metadata": {
        "colab": {
          "base_uri": "https://localhost:8080/"
        },
        "id": "fzdPt0P_O1pn",
        "outputId": "31898bcd-58c0-4799-a73a-46504767a211"
      },
      "execution_count": 9,
      "outputs": [
        {
          "output_type": "stream",
          "name": "stdout",
          "text": [
            "0.96\n"
          ]
        }
      ]
    },
    {
      "cell_type": "markdown",
      "source": [
        "### Especificidade por classe\n",
        "**Fórmula = Verdadeiro Negativo / (Falso Positivo + Verdadeiro Negativo)**"
      ],
      "metadata": {
        "id": "5rkR1ClP__KP"
      }
    },
    {
      "cell_type": "code",
      "source": [
        "vn_setosa = conf_mat[1,1] + conf_mat[2,2]\n",
        "fp_setosa = conf_mat[1,0] + conf_mat[2,0]\n",
        "especificidade_setosa = vn_setosa / (fp_setosa + vn_setosa)\n",
        "print(especificidade_setosa)"
      ],
      "metadata": {
        "colab": {
          "base_uri": "https://localhost:8080/"
        },
        "id": "jr_EvgSPO0hY",
        "outputId": "7533f4c2-f433-4138-c594-f80db3f2ce7b"
      },
      "execution_count": 10,
      "outputs": [
        {
          "output_type": "stream",
          "name": "stdout",
          "text": [
            "1.0\n"
          ]
        }
      ]
    },
    {
      "cell_type": "code",
      "source": [
        "vn_versicolor = conf_mat[0,0] + conf_mat[2,2]\n",
        "fp_versicolor = conf_mat[1,0] + conf_mat[1,2]\n",
        "especificidade_versicolor = vn_versicolor / (fp_versicolor + vn_versicolor)\n",
        "print(especificidade_versicolor)"
      ],
      "metadata": {
        "colab": {
          "base_uri": "https://localhost:8080/"
        },
        "id": "NR6g2aSOBv-h",
        "outputId": "a4b6e8c7-3e55-4c7c-d4e9-f0c69fc3e084"
      },
      "execution_count": 11,
      "outputs": [
        {
          "output_type": "stream",
          "name": "stdout",
          "text": [
            "0.9702970297029703\n"
          ]
        }
      ]
    },
    {
      "cell_type": "code",
      "source": [
        "vn_virginica = conf_mat[0,0] + conf_mat[1,1]\n",
        "fp_virginica = conf_mat[2,0] + conf_mat[2,1]\n",
        "especificidade_virginica = vn_virginica / (fp_virginica + vn_virginica)\n",
        "print(especificidade_virginica)"
      ],
      "metadata": {
        "colab": {
          "base_uri": "https://localhost:8080/"
        },
        "id": "XtlPmbMXTi7l",
        "outputId": "96494825-cf6e-4a11-c8f1-797b8ffc1a01"
      },
      "execution_count": 12,
      "outputs": [
        {
          "output_type": "stream",
          "name": "stdout",
          "text": [
            "0.9797979797979798\n"
          ]
        }
      ]
    },
    {
      "cell_type": "markdown",
      "source": [
        "## Acurácia Geral\n",
        "**Fórmula = (Verdadeiro Positivo + Verdadeiro Negativo) / Total de Elementos**"
      ],
      "metadata": {
        "id": "PJMeizGjATaZ"
      }
    },
    {
      "cell_type": "code",
      "source": [
        "acuracia_geral = (vp_setosa + vp_versicolor + vp_virginica)/N\n",
        "print(acuracia_geral)"
      ],
      "metadata": {
        "colab": {
          "base_uri": "https://localhost:8080/"
        },
        "id": "GzzYv2ZJ_p5a",
        "outputId": "3f587aa8-23d7-43db-965d-376b48d80b18"
      },
      "execution_count": 13,
      "outputs": [
        {
          "output_type": "stream",
          "name": "stdout",
          "text": [
            "0.9666666666666667\n"
          ]
        }
      ]
    },
    {
      "cell_type": "markdown",
      "source": [
        "## Acurácia por Classe\n",
        "**Fórmula = (Verdadeiro Positivo + Verdadeiro Negativo) / Total de Elementos**"
      ],
      "metadata": {
        "id": "Xjq7swlYUiJp"
      }
    },
    {
      "cell_type": "code",
      "source": [
        "acuracia_setosa = (vp_setosa + vn_setosa) / N\n",
        "print(acuracia_setosa)"
      ],
      "metadata": {
        "colab": {
          "base_uri": "https://localhost:8080/"
        },
        "id": "f70ttyjiFy_9",
        "outputId": "5295294c-a9b7-4042-fa5a-b3eb52da5523"
      },
      "execution_count": 14,
      "outputs": [
        {
          "output_type": "stream",
          "name": "stdout",
          "text": [
            "0.9666666666666667\n"
          ]
        }
      ]
    },
    {
      "cell_type": "code",
      "source": [
        "acuracia_versicolor = (vp_versicolor + vn_versicolor) / N\n",
        "print(acuracia_versicolor)"
      ],
      "metadata": {
        "colab": {
          "base_uri": "https://localhost:8080/"
        },
        "id": "qh7gyKcxVC_z",
        "outputId": "d77fd77e-711e-4842-b77e-94998c48317b"
      },
      "execution_count": 15,
      "outputs": [
        {
          "output_type": "stream",
          "name": "stdout",
          "text": [
            "0.9666666666666667\n"
          ]
        }
      ]
    },
    {
      "cell_type": "code",
      "source": [
        "acuracia_virginica = (vp_virginica + vn_virginica) / N\n",
        "print(acuracia_virginica)"
      ],
      "metadata": {
        "colab": {
          "base_uri": "https://localhost:8080/"
        },
        "id": "-y-ZL09_VDB8",
        "outputId": "bd0f4dc2-b7a2-4e19-cda6-cc31f904ac5b"
      },
      "execution_count": 16,
      "outputs": [
        {
          "output_type": "stream",
          "name": "stdout",
          "text": [
            "0.9666666666666667\n"
          ]
        }
      ]
    },
    {
      "cell_type": "markdown",
      "source": [
        "## Precisão por Classe\n",
        "**Fórmula = Verdadeiro Positivo / (Verdadeiro Positivo + Falso Positivo)**"
      ],
      "metadata": {
        "id": "JonkvnGMVx8L"
      }
    },
    {
      "cell_type": "code",
      "source": [
        "presisao_setosa = vp_setosa / (vp_setosa + fp_setosa)\n",
        "print(presisao_setosa)"
      ],
      "metadata": {
        "colab": {
          "base_uri": "https://localhost:8080/"
        },
        "id": "sA2JDiZwFzDW",
        "outputId": "7cd10414-4aa6-465e-d4ab-ef119a18e1fb"
      },
      "execution_count": 17,
      "outputs": [
        {
          "output_type": "stream",
          "name": "stdout",
          "text": [
            "1.0\n"
          ]
        }
      ]
    },
    {
      "cell_type": "code",
      "source": [
        "precisao_versicolor = vp_versicolor / (vp_versicolor + fp_versicolor)\n",
        "print(precisao_versicolor)"
      ],
      "metadata": {
        "colab": {
          "base_uri": "https://localhost:8080/"
        },
        "id": "uupr9eY3VrSG",
        "outputId": "b7510360-ae2f-4234-ef5a-48dbcde11cca"
      },
      "execution_count": 18,
      "outputs": [
        {
          "output_type": "stream",
          "name": "stdout",
          "text": [
            "0.94\n"
          ]
        }
      ]
    },
    {
      "cell_type": "code",
      "source": [
        "precisao_virginica = vp_virginica / (vp_virginica + fp_virginica)\n",
        "print(precisao_virginica)"
      ],
      "metadata": {
        "colab": {
          "base_uri": "https://localhost:8080/"
        },
        "id": "rR9AqDGZVrUg",
        "outputId": "92fbffcf-6953-42a3-d485-820687b94d88"
      },
      "execution_count": 19,
      "outputs": [
        {
          "output_type": "stream",
          "name": "stdout",
          "text": [
            "0.96\n"
          ]
        }
      ]
    },
    {
      "cell_type": "markdown",
      "source": [
        "## F1-score por classe\n",
        "**Fórmula = 2 * (Precisão * Sensibilidade) / (Precisão + Sensibilidade)**"
      ],
      "metadata": {
        "id": "lgrVcbXUXSs_"
      }
    },
    {
      "cell_type": "code",
      "source": [
        "f1_setosa = 2 * (presisao_setosa * sensibilidade_setosa) / (presisao_setosa + sensibilidade_setosa)\n",
        "print(f1_setosa)"
      ],
      "metadata": {
        "colab": {
          "base_uri": "https://localhost:8080/"
        },
        "id": "rzUPAZaJVrXR",
        "outputId": "822e0667-736d-441c-b3c6-82930d653043"
      },
      "execution_count": 20,
      "outputs": [
        {
          "output_type": "stream",
          "name": "stdout",
          "text": [
            "1.0\n"
          ]
        }
      ]
    },
    {
      "cell_type": "code",
      "source": [
        "f1_versicolor = 2 * (precisao_versicolor * sensibilidade_versicolor) / (precisao_versicolor + sensibilidade_versicolor)\n",
        "print(f1_versicolor)"
      ],
      "metadata": {
        "colab": {
          "base_uri": "https://localhost:8080/"
        },
        "id": "_xHVfdr6XjsV",
        "outputId": "6278ffa3-588f-4092-e401-617c062e16f9"
      },
      "execution_count": 21,
      "outputs": [
        {
          "output_type": "stream",
          "name": "stdout",
          "text": [
            "0.94\n"
          ]
        }
      ]
    },
    {
      "cell_type": "code",
      "source": [
        "f1_verginica = 2 * (precisao_virginica * sensibilidade_virginica) / (precisao_virginica + sensibilidade_virginica)\n",
        "print(f1_verginica)"
      ],
      "metadata": {
        "colab": {
          "base_uri": "https://localhost:8080/"
        },
        "id": "G3THxRKHXjul",
        "outputId": "e5eda083-dfed-493d-a065-6dce599eebd7"
      },
      "execution_count": 22,
      "outputs": [
        {
          "output_type": "stream",
          "name": "stdout",
          "text": [
            "0.96\n"
          ]
        }
      ]
    },
    {
      "cell_type": "markdown",
      "source": [
        "## Curva de ROC"
      ],
      "metadata": {
        "id": "GMdBNYwqcruM"
      }
    },
    {
      "cell_type": "code",
      "source": [
        "from sklearn.preprocessing import OneHotEncoder\n",
        "\n",
        "# Criando o array de exemplo\n",
        "array = y_pred\n",
        "\n",
        "# Reshape para que o OneHotEncoder funcione corretamente\n",
        "array = np.array(array).reshape(-1, 1)\n",
        "\n",
        "# Criando e aplicando o encoder\n",
        "encoder = OneHotEncoder()\n",
        "y_scores = encoder.fit_transform(array)\n",
        "\n",
        "# Convertendo para array numpy\n",
        "y_scores = y_scores.toarray()\n",
        "\n",
        "#print(y_scores)"
      ],
      "metadata": {
        "id": "ySeEmloaaP6Y"
      },
      "execution_count": 23,
      "outputs": []
    },
    {
      "cell_type": "code",
      "source": [
        "from sklearn.metrics import roc_curve, auc\n",
        "import matplotlib.pyplot as plt\n",
        "import numpy as np\n",
        "\n",
        "# Número de classes\n",
        "n_classes = 3\n",
        "\n",
        "# Inicializando dicionários para armazenar TPR, FPR e AUC\n",
        "fpr = dict()\n",
        "tpr = dict()\n",
        "roc_auc = dict()\n",
        "\n",
        "# Calculando a curva ROC para cada classe (OvR)\n",
        "for i in range(n_classes):\n",
        "    fpr[i], tpr[i], _ = roc_curve(y == i, y_scores[:, i])\n",
        "    roc_auc[i] = auc(fpr[i], tpr[i])\n",
        "\n",
        "# Plotando as curvas ROC\n",
        "plt.figure()\n",
        "for i in range(n_classes):\n",
        "    #plt.plot(fpr[i], tpr[i], label='Classe %d (AUC = %0.2f)' % (i, roc_auc[i]))\n",
        "    if(i == 0):\n",
        "        plt.plot(fpr[i], tpr[i], label='Setosa')\n",
        "    elif(i == 1):\n",
        "        plt.plot(fpr[i], tpr[i], label='Versicolor')\n",
        "    else:\n",
        "        plt.plot(fpr[i], tpr[i], label='Virginica')\n",
        "\n",
        "\n",
        "plt.plot([0, 1], [0, 1], 'k--')\n",
        "plt.xlim([0.0, 1.0])\n",
        "plt.ylim([0.0, 1.05])\n",
        "plt.xlabel('Taxa de Falsos Positivos')\n",
        "plt.ylabel('Taxa de Verdadeiros Positivos')\n",
        "## Título mais específico para o problema de 3 classes\n",
        "plt.title('Curvas ROC para Classificação de 3 Classes')\n",
        "plt.legend(loc=\"lower right\")\n",
        "plt.show()"
      ],
      "metadata": {
        "colab": {
          "base_uri": "https://localhost:8080/",
          "height": 472
        },
        "id": "XC8Hdc7laP-5",
        "outputId": "b6e5caf1-9811-485b-b470-4b8a180f74b7"
      },
      "execution_count": 24,
      "outputs": [
        {
          "output_type": "display_data",
          "data": {
            "text/plain": [
              "<Figure size 640x480 with 1 Axes>"
            ],
            "image/png": "[encoded data removed]"
          },
          "metadata": {}
        }
      ]
    }
  ]
}